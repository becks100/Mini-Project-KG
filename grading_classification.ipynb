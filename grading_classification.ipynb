{
 "cells": [
  {
   "cell_type": "markdown",
   "metadata": {},
   "source": [
    "<h1><center>Mini-Project  -  Foundations of Knowledge Graphs</center></h1> \n",
    "\n",
    "<h2><center>Classification of the remaining individuals from carcinogenesis</center></h2> \n",
    "\n",
    "<h3><center>Knowledge Group LRJ</center></h3> \n",
    "\n",
    "<center><b>Team members (IMT user name):</b></center> \n",
    "\n",
    "   <center>Jonas Thorben Becker (becks100)</center> \n",
    "\n",
    "   <center>Lukas Kneilmann (lukn)</center> \n",
    "   \n",
    "   <center>Rupesh Sapkota (rupezzz) (now deregistered)</center> \n",
    "\n",
    "<br> \n",
    "<br> \n",
    "<br> \n",
    "<br> \n",
    "\n",
    "This Jupyter Notebook was created by the 'Knowledge Group LRJ' for the mini project as part of the module ‘Foundations of Knowledge Graphs'. It reads in 'kg-mini-project-grading', determines the missing individuals from carcinogenesis per learning problem, and classifies them using a machine learning model, which was trained on the existing individuals in the learning problem. For more detailed information on the approach and its motivation, please see the Readme.md file provided in the submission. \n",
    "\n",
    "<br> \n",
    "<br> \n",
    "To start the notebook/ individual cells klick on the 'Run' icon in the toolbar above. \n",
    "<br> \n",
    "<br> \n",
    "<br>\n",
    "Necessary imports: "
   ]
  },
  {
   "cell_type": "code",
   "execution_count": 1,
   "metadata": {},
   "outputs": [],
   "source": [
    "from rdflib import Graph\n",
    "import rdflib\n",
    "#from owlready2 import *\n",
    "#from owlrl import *\n",
    "import numpy as np\n",
    "import gensim\n",
    "from sklearn.preprocessing import StandardScaler\n",
    "from sklearn.model_selection import GridSearchCV\n",
    "from sklearn.metrics import classification_report\n",
    "from sklearn.model_selection import train_test_split\n",
    "from sklearn.svm import LinearSVC\n",
    "from imblearn.over_sampling import SVMSMOTE\n",
    "from rdflib import Namespace, URIRef, Literal"
   ]
  },
  {
   "cell_type": "markdown",
   "metadata": {},
   "source": [
    "<br>\n",
    "\n",
    " - Parses the graph in the file <font color='blue'>kg-mini-project-grading.ttl</font> and saves it as <font color='blue'>g</font>  \n",
    " - loads the OWL2Vec* Embedding and saves it as a <font color='blue'>owl2vec_model</font>"
   ]
  },
  {
   "cell_type": "code",
   "execution_count": 2,
   "metadata": {},
   "outputs": [],
   "source": [
    "g = Graph()\n",
    "g.parse('kg-mini-project-grading.ttl', format='n3')\n",
    "\n",
    "# Load pre-trained OWL2Vec* model.\n",
    "owl2vec_model = gensim.models.Word2Vec.load(\"output\")"
   ]
  },
  {
   "cell_type": "markdown",
   "metadata": {},
   "source": [
    "<br>\n",
    "\n",
    "Opens <font color='blue'>'all_carcinogenesis.txt'</font> and saves the individuals as string in <font color='blue'>all_carcis</font> to obtain a complete list of all carcinogenesis individuals"
   ]
  },
  {
   "cell_type": "code",
   "execution_count": 3,
   "metadata": {},
   "outputs": [],
   "source": [
    "text_file = open('all_carcinogenesis.txt', 'r')\n",
    "all_carcis = text_file.read().split()\n",
    "text_file.close()"
   ]
  },
  {
   "cell_type": "markdown",
   "metadata": {},
   "source": [
    "<br>\n",
    "\n",
    "Function <font color='blue'>data</font>:  \n",
    "\n",
    "- for the learning problem specified by parameter <font color='blue'>i</font>: \n",
    "\n",
    "    - returns the test dataset (<font color='blue'>X_np_test</font>) by determining the missing individuals of the learning problem and transforming them into their embedding \n",
    "\n",
    "    - returns a list of the missing instances (<font color='blue'>lp_grading_str</font> )\n",
    "\n",
    "    - returns the training data set (<font color='blue'>y_np, X_np</font>) : \n",
    "\n",
    "        - creates <font color='blue'>y_np</font> by determining the class of the included individuals \n",
    "\n",
    "        - creates <font color='blue'>x_np</font> by embedding the included individuals using <font color='blue'>owl2vec_model</font> "
   ]
  },
  {
   "cell_type": "code",
   "execution_count": 4,
   "metadata": {},
   "outputs": [],
   "source": [
    "def data (i):\n",
    "    lp = rdflib.Graph()\n",
    "    lp_object_str = []\n",
    "    lp_y = []\n",
    "    \n",
    "    # tag individuals with class id\n",
    "    s = 'https://lpbenchgen.org/resource/lp_' + str(i)\n",
    "    print(s)\n",
    "    for i, (s,p,o) in enumerate(g.triples((rdflib.term.URIRef(s), None, None))):\n",
    "         \n",
    "        if str(o)=='https://lpbenchgen.org/class/LearningProblem':\n",
    "            pass\n",
    "        else:\n",
    "            lp_object_str.append(str(o))\n",
    "            if str(p) == 'https://lpbenchgen.org/property/excludesResource':\n",
    "                 lp_y.append(0)\n",
    "            else:\n",
    "                    lp_y.append(1)\n",
    "\n",
    "    \n",
    "    # get missing individuals for prediction dataset\n",
    "    lp_grading_str = list(set(lp_object_str).symmetric_difference(set(all_carcis)))\n",
    "    \n",
    "    # embed included individuals\n",
    "    lp_emb = []\n",
    "    for i in range(len(lp_object_str)):\n",
    "        lp_emb.append(owl2vec_model.wv[lp_object_str[i]])\n",
    "    \n",
    "    # embed missing individuals\n",
    "    lp_grading_emb = []\n",
    "    for i in range(len(lp_grading_str)):\n",
    "        lp_grading_emb.append(owl2vec_model.wv[lp_grading_str[i]])\n",
    "        \n",
    "    #to numpy\n",
    "    X_np = np.array(lp_emb)\n",
    "    y_np = np.array(lp_y)\n",
    "    X_np_test = np.array(lp_grading_emb)\n",
    "    return X_np, y_np, X_np_test, lp_grading_str"
   ]
  },
  {
   "cell_type": "markdown",
   "metadata": {},
   "source": [
    "<br>\n",
    "\n",
    "Iterates over the learning problems 26 to 50 in <font color='blue'>g</font> and predicts the classes of the missing individuals of the individual learning problems, saving the instances and corresponding predictions in dictionaries. The process for each learning problem is as follows:  \n",
    "\n",
    "- Calls <font color='blue'>data</font> to obtain the training dataset and the data to be predicted   \n",
    "\n",
    "- standardizes the training dataset and resamples a new dataset set with <font color='blue'>SVMSMOTE-sampler</font>   \n",
    "\n",
    "- fits a linear SVM on the sampled data set using a gridsearch in combination with crossvalidation (<font color='blue'>GridSearchCV</font>) to find the optimal regularization parameters for the SVM and learning problem   \n",
    "\n",
    "- predicts the classes for the missing individuals in the test dataset <font color='blue'>X_test</font> using the SVM and saves the predictions in the dictionary <font color='blue'>predictions</font> and the missing individuals in the dictionary <font color='blue'>grading_strings</font> "
   ]
  },
  {
   "cell_type": "code",
   "execution_count": 5,
   "metadata": {},
   "outputs": [
    {
     "name": "stdout",
     "output_type": "stream",
     "text": [
      "https://lpbenchgen.org/resource/lp_26\n",
      "https://lpbenchgen.org/resource/lp_27\n",
      "https://lpbenchgen.org/resource/lp_28\n",
      "https://lpbenchgen.org/resource/lp_29\n",
      "https://lpbenchgen.org/resource/lp_30\n",
      "https://lpbenchgen.org/resource/lp_31\n",
      "https://lpbenchgen.org/resource/lp_32\n",
      "https://lpbenchgen.org/resource/lp_33\n",
      "https://lpbenchgen.org/resource/lp_34\n",
      "https://lpbenchgen.org/resource/lp_35\n",
      "https://lpbenchgen.org/resource/lp_36\n",
      "https://lpbenchgen.org/resource/lp_37\n",
      "https://lpbenchgen.org/resource/lp_38\n",
      "https://lpbenchgen.org/resource/lp_39\n",
      "https://lpbenchgen.org/resource/lp_40\n",
      "https://lpbenchgen.org/resource/lp_41\n",
      "https://lpbenchgen.org/resource/lp_42\n",
      "https://lpbenchgen.org/resource/lp_43\n",
      "https://lpbenchgen.org/resource/lp_44\n",
      "https://lpbenchgen.org/resource/lp_45\n",
      "https://lpbenchgen.org/resource/lp_46\n",
      "https://lpbenchgen.org/resource/lp_47\n",
      "https://lpbenchgen.org/resource/lp_48\n",
      "https://lpbenchgen.org/resource/lp_49\n",
      "https://lpbenchgen.org/resource/lp_50\n"
     ]
    }
   ],
   "source": [
    "sampler = SVMSMOTE(random_state=42,n_jobs=-1) #best sampler\n",
    "predictions = {}\n",
    "grading_strings = {}\n",
    "\n",
    "for i in range(26,51):\n",
    "    X_train, y_train, X_test, grad_str = data(i)\n",
    "    grading_strings[i] = grad_str\n",
    "    scaler = StandardScaler()\n",
    "    \n",
    "    # standardize and resample\n",
    "    scaler = scaler.fit(X_train)  \n",
    "    X_train = scaler.transform(X_train)\n",
    "    X_test = scaler.transform(X_test)                                    \n",
    "    X_train_re, y_train_re = sampler.fit_resample(X_train, y_train)\n",
    "\n",
    "    # Gridsearch to find optimal regularization\n",
    "    parameters = { 'C':[0.1,0.5,1]}  \n",
    "    m= LinearSVC(dual=False, penalty='l2',max_iter=2000)\n",
    "    clf = GridSearchCV(m, parameters,verbose=0,n_jobs=-1, scoring = {'precision','f1', 'accuracy', 'recall'}, refit='f1')  \n",
    "    clf.fit(X_train_re, y_train_re)\n",
    "        \n",
    "    #predict missing individuals\n",
    "    prediction = clf.predict(X_test)\n",
    "    predictions[i] = prediction     "
   ]
  },
  {
   "cell_type": "markdown",
   "metadata": {},
   "source": [
    "<br>\n",
    "\n",
    "Creates the graph <font color='blue'>grading_graph</font> with the missing individuals and their class prediction for all learning problems"
   ]
  },
  {
   "cell_type": "code",
   "execution_count": 6,
   "metadata": {},
   "outputs": [],
   "source": [
    "grading_graph = Graph()\n",
    "carcinogenesis = Namespace('http://dl-learner.org/carcinogenesis#')\n",
    "lpprop = Namespace('https://lpbenchgen.org/property/')\n",
    "lpres = Namespace('https://lpbenchgen.org/resource/')\n",
    "\n",
    "grading_graph.bind('carcinogenesis', carcinogenesis)\n",
    "grading_graph.bind('lpprop', lpprop)\n",
    "grading_graph.bind('lpres', lpres)\n",
    "\n",
    "for i, key in enumerate(predictions.keys(),1):\n",
    "    grading_graph.add((URIRef('https://lpbenchgen.org/resource/result_{}neg'.format(i)), lpprop.belongsToLp, Literal(False)))\n",
    "    grading_graph.add((URIRef('https://lpbenchgen.org/resource/result_{}pos'.format(i)), lpprop.belongsToLp, Literal(True)))\n",
    "    grading_graph.add((URIRef('https://lpbenchgen.org/resource/result_{}neg'.format(i)), lpprop.pertainsTo, URIRef('https://lpbenchgen.org/resource/lp_{}'.format(key))))\n",
    "    grading_graph.add((URIRef('https://lpbenchgen.org/resource/result_{}pos'.format(i)), lpprop.pertainsTo, URIRef('https://lpbenchgen.org/resource/lp_{}'.format(key))))\n",
    "       \n",
    "    for j in range(len(predictions[key])):\n",
    "        if predictions[key][j] == 0:\n",
    "            grading_graph.add((URIRef('https://lpbenchgen.org/resource/result_{}neg'.format(i)), lpprop.resource, URIRef(grading_strings[key][j])))\n",
    "        else:\n",
    "            grading_graph.add((URIRef('https://lpbenchgen.org/resource/result_{}pos'.format(i)), lpprop.resource, URIRef(grading_strings[key][j])))"
   ]
  },
  {
   "cell_type": "markdown",
   "metadata": {},
   "source": [
    "<br>\n",
    "\n",
    "Writes <font color='blue'>grading_graph</font> to  <font color='blue'>'grading.ttl'</font>"
   ]
  },
  {
   "cell_type": "code",
   "execution_count": 7,
   "metadata": {},
   "outputs": [],
   "source": [
    "grading_graph.serialize('grading.ttl',format='turtle')"
   ]
  },
  {
   "cell_type": "code",
   "execution_count": null,
   "metadata": {},
   "outputs": [],
   "source": []
  }
 ],
 "metadata": {
  "kernelspec": {
   "display_name": "Python 3",
   "language": "python",
   "name": "python3"
  },
  "language_info": {
   "codemirror_mode": {
    "name": "ipython",
    "version": 3
   },
   "file_extension": ".py",
   "mimetype": "text/x-python",
   "name": "python",
   "nbconvert_exporter": "python",
   "pygments_lexer": "ipython3",
   "version": "3.8.5"
  }
 },
 "nbformat": 4,
 "nbformat_minor": 4
}
